{
 "cells": [
  {
   "cell_type": "code",
   "execution_count": 2,
   "metadata": {},
   "outputs": [],
   "source": [
    "import pandas as pd \n",
    "import sqlalchemy\n",
    "from binance.client import Client\n",
    "from binance import BinanceSocketManager"
   ]
  },
  {
   "cell_type": "code",
   "execution_count": 4,
   "metadata": {},
   "outputs": [],
   "source": [
    "api_key = \"\"\n",
    "api_secret = \"\""
   ]
  },
  {
   "cell_type": "code",
   "execution_count": 5,
   "metadata": {},
   "outputs": [],
   "source": [
    "client = Client(api_key, api_secret)"
   ]
  },
  {
   "cell_type": "code",
   "execution_count": 6,
   "metadata": {},
   "outputs": [],
   "source": [
    "bsm = BinanceSocketManager(client)"
   ]
  },
  {
   "cell_type": "code",
   "execution_count": 7,
   "metadata": {},
   "outputs": [],
   "source": [
    "socket = bsm.trade_socket('BTCUSDT')"
   ]
  },
  {
   "cell_type": "code",
   "execution_count": 9,
   "metadata": {},
   "outputs": [
    {
     "name": "stdout",
     "output_type": "stream",
     "text": [
      "{'e': 'trade', 'E': 1690624542500, 's': 'BTCUSDT', 't': 3181059416, 'p': '29277.58000000', 'q': '0.01168000', 'b': 21906581401, 'a': 21906582267, 'T': 1690624542499, 'm': True, 'M': True}\n"
     ]
    }
   ],
   "source": [
    "await socket.__aenter__()\n",
    "msg = await socket.recv()\n",
    "print(msg)"
   ]
  },
  {
   "cell_type": "code",
   "execution_count": null,
   "metadata": {},
   "outputs": [],
   "source": [
    "def createframe(msg):\n",
    "    df = pd.DataFrame([msg])\n",
    "    df = df.loc[:, ['s', 'E', 'p']]\n",
    "    df.columns = ['symbol', 'Time', 'Price']\n",
    "    df."
   ]
  }
 ],
 "metadata": {
  "kernelspec": {
   "display_name": "Python 3",
   "language": "python",
   "name": "python3"
  },
  "language_info": {
   "codemirror_mode": {
    "name": "ipython",
    "version": 3
   },
   "file_extension": ".py",
   "mimetype": "text/x-python",
   "name": "python",
   "nbconvert_exporter": "python",
   "pygments_lexer": "ipython3",
   "version": "3.10.6"
  },
  "orig_nbformat": 4
 },
 "nbformat": 4,
 "nbformat_minor": 2
}
