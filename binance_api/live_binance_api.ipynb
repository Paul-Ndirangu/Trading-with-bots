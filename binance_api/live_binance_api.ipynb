{
 "cells": [
  {
   "cell_type": "code",
   "execution_count": 1,
   "metadata": {},
   "outputs": [],
   "source": [
    "import pandas as pd \n",
    "import sqlalchemy\n",
    "from binance.client import Client\n",
    "import matplotlib.pyplot as plt\n",
    "\n",
    "%matplotlib inline"
   ]
  },
  {
   "cell_type": "code",
   "execution_count": 2,
   "metadata": {},
   "outputs": [],
   "source": [
    "api_key, api_secret = \"\", \"\""
   ]
  },
  {
   "cell_type": "code",
   "execution_count": 3,
   "metadata": {},
   "outputs": [],
   "source": [
    "client = Client(api_key, api_secret)"
   ]
  },
  {
   "cell_type": "code",
   "execution_count": 4,
   "metadata": {},
   "outputs": [],
   "source": [
    "engine = sqlalchemy.create_engine('sqlite:///BTCUSDTstream.db')\n"
   ]
  },
  {
   "cell_type": "code",
   "execution_count": 5,
   "metadata": {},
   "outputs": [
    {
     "data": {
      "text/html": [
       "<div>\n",
       "<style scoped>\n",
       "    .dataframe tbody tr th:only-of-type {\n",
       "        vertical-align: middle;\n",
       "    }\n",
       "\n",
       "    .dataframe tbody tr th {\n",
       "        vertical-align: top;\n",
       "    }\n",
       "\n",
       "    .dataframe thead th {\n",
       "        text-align: right;\n",
       "    }\n",
       "</style>\n",
       "<table border=\"1\" class=\"dataframe\">\n",
       "  <thead>\n",
       "    <tr style=\"text-align: right;\">\n",
       "      <th></th>\n",
       "      <th>symbol</th>\n",
       "      <th>Time</th>\n",
       "      <th>Price</th>\n",
       "    </tr>\n",
       "  </thead>\n",
       "  <tbody>\n",
       "    <tr>\n",
       "      <th>0</th>\n",
       "      <td>BTCUSDT</td>\n",
       "      <td>2023-07-29 10:17:58.627</td>\n",
       "      <td>29270.00</td>\n",
       "    </tr>\n",
       "    <tr>\n",
       "      <th>1</th>\n",
       "      <td>BTCUSDT</td>\n",
       "      <td>2023-07-29 10:17:58.655</td>\n",
       "      <td>29269.99</td>\n",
       "    </tr>\n",
       "    <tr>\n",
       "      <th>2</th>\n",
       "      <td>BTCUSDT</td>\n",
       "      <td>2023-07-29 10:17:58.655</td>\n",
       "      <td>29269.99</td>\n",
       "    </tr>\n",
       "    <tr>\n",
       "      <th>3</th>\n",
       "      <td>BTCUSDT</td>\n",
       "      <td>2023-07-29 10:17:58.655</td>\n",
       "      <td>29269.99</td>\n",
       "    </tr>\n",
       "    <tr>\n",
       "      <th>4</th>\n",
       "      <td>BTCUSDT</td>\n",
       "      <td>2023-07-29 10:17:59.979</td>\n",
       "      <td>29270.00</td>\n",
       "    </tr>\n",
       "  </tbody>\n",
       "</table>\n",
       "</div>"
      ],
      "text/plain": [
       "    symbol                    Time     Price\n",
       "0  BTCUSDT 2023-07-29 10:17:58.627  29270.00\n",
       "1  BTCUSDT 2023-07-29 10:17:58.655  29269.99\n",
       "2  BTCUSDT 2023-07-29 10:17:58.655  29269.99\n",
       "3  BTCUSDT 2023-07-29 10:17:58.655  29269.99\n",
       "4  BTCUSDT 2023-07-29 10:17:59.979  29270.00"
      ]
     },
     "execution_count": 5,
     "metadata": {},
     "output_type": "execute_result"
    }
   ],
   "source": [
    "df = pd.read_sql('BTCUSDT', engine)\n",
    "df.head()"
   ]
  },
  {
   "cell_type": "code",
   "execution_count": 6,
   "metadata": {},
   "outputs": [],
   "source": [
    "# Trendfollowing - X/Twitter\n",
    "# if the crypto was rising by x % -> Buy\n",
    "# exit when profit is above 0.15% or loss is crossing -0.15%\n",
    "# Lookback defines the number of timesteps to go back to.\n",
    "# 1 timestep = 1 second"
   ]
  },
  {
   "cell_type": "code",
   "execution_count": 10,
   "metadata": {},
   "outputs": [
    {
     "data": {
      "text/plain": [
       "[2]"
      ]
     },
     "execution_count": 10,
     "metadata": {},
     "output_type": "execute_result"
    }
   ],
   "source": [
    "x = 2\n",
    "y =[x]\n",
    "y"
   ]
  },
  {
   "cell_type": "code",
   "execution_count": 8,
   "metadata": {},
   "outputs": [],
   "source": [
    "def strategy(entry, lookback, qty, open_position=False):\n",
    "    while True:\n",
    "        df = pd.read_sql('BTCUSDT', engine)\n",
    "        loockbackperiod = df.iloc[-lookback:]\n",
    "        cumret = (loockbackperiod.Price.pct_change() +1).cumprod() -1\n",
    "        if not open_position:\n",
    "            if cumret[cumret.last_valid_index()] > entry:\n",
    "                order = client.create_order(symbol='BTCUSDT',\n",
    "                                            side='BUY',\n",
    "                                            type='MARKET',\n",
    "                                            quantity=qty)\n",
    "                print(order)\n",
    "                open_position = True\n",
    "                break\n",
    "    \n",
    "    if open_position:\n",
    "        while True:\n",
    "            df = pd.read_sql('BTCUSDT', engine)\n",
    "            sincebuy = df.loc[df.Time > pd.to_datetime(order['transactionTime'],\n",
    "                                                       unit='ms')]\n",
    "            \n",
    "            if len(sincebuy) > 1:\n",
    "                sincebuyret = (sincebuy.Price.pct_change() +1).cumprod() -1\n",
    "                last_entry = sincebuyret[sincebuyret.last_valid_index()]\n",
    "                if last_entry > 0.0015 or last_entry < -0.0015:\n",
    "                    order = client.create_order(symbol='BTCUSDT',\n",
    "                                            side='SELL',\n",
    "                                            type='MARKET',\n",
    "                                            quantity=qty)\n",
    "                    print(order)\n",
    "                    break"
   ]
  },
  {
   "cell_type": "code",
   "execution_count": null,
   "metadata": {},
   "outputs": [],
   "source": [
    "strategy(0.001, 60, 0.001)"
   ]
  },
  {
   "cell_type": "markdown",
   "metadata": {},
   "source": [
    "### What is cumulative product? Give a simple example\n",
    "\n",
    "#### Source - ChatGPT\n",
    "Cumulative product is a mathematical operation that involves multiplying a sequence of numbers together one by one, starting from the beginning of the sequence and proceeding to the end. The result of each multiplication is then used as one of the factors in the next multiplication, creating a cumulative effect.\n",
    "\n",
    "For example, let's consider the sequence of numbers: 2, 3, 4, and 5.\n",
    "\n",
    "The cumulative product of this sequence would be calculated as follows:\n",
    "\n",
    "Start with the first number: 2 (Cumulative product so far: 2).\n",
    "Multiply the second number with the cumulative product so far: 2 * 3 = 6 (Cumulative product so far: 6).\n",
    "Multiply the third number with the cumulative product so far: 6 * 4 = 24 (Cumulative product so far: 24).\n",
    "Multiply the fourth number with the cumulative product so far: 24 * 5 = 120.\n",
    "The final result, 120, is the cumulative product of the sequence {2, 3, 4, 5}.\n",
    "\n",
    "### How is it used in trading\n",
    "\n",
    "In trading and finance, cumulative product is used in the context of calculating the cumulative returns of an investment over a certain period. It helps investors and traders understand the overall growth or decline of an investment over time.\n",
    "\n",
    "#### Here's how it works:\n",
    "\n",
    "Daily Returns: In trading, investors often track the daily returns of an asset or investment. Daily returns are calculated as the percentage change in the asset's value from one trading day to the next. For example, if the price of a stock increased from $100 to $110, the daily return would be (110 - 100) / 100 = 0.10 or 10%.\n",
    "\n",
    "> Cumulative Product of Returns: To calculate the cumulative return over a period, the daily returns are used to compute the cumulative product. The formula is as follows:\n",
    "\n",
    "> ```Cumulative Return = (1 + Return_1) * (1 + Return_2) * ... * (1 + Return_n)```\n",
    "\n",
    "> Where Return_1, Return_2, ..., Return_n are the daily returns for each trading day within the specified period.\n",
    "\n",
    "Example: Let's say you have daily returns for a stock over five consecutive trading days as follows: 0.02, 0.03, -0.01, 0.015, and 0.02. To calculate the cumulative return over these five days, you would apply the formula:\n",
    "\n",
    "> ```Cumulative Return = (1 + 0.02) * (1 + 0.03) * (1 - 0.01) * (1 + 0.015) * (1 + 0.02) ≈ 1.0667```\n",
    "\n",
    "The cumulative return in this example is approximately 1.0667 or 6.67%. This means that the investment has grown by about 6.67% over the five-day period.\n",
    "\n",
    "Investors and traders use cumulative returns to assess the performance of their investments over various timeframes. It helps them understand the overall trend and performance of their portfolio, which can be essential in making informed decisions about their trading strategies. However, it's important to note that cumulative returns don't provide information about the volatility or risk of the investment, and other metrics like standard deviation or Sharpe ratio should be considered to get a more comprehensive view of the investment's performance."
   ]
  },
  {
   "cell_type": "code",
   "execution_count": null,
   "metadata": {},
   "outputs": [],
   "source": []
  }
 ],
 "metadata": {
  "kernelspec": {
   "display_name": "Python 3",
   "language": "python",
   "name": "python3"
  },
  "language_info": {
   "codemirror_mode": {
    "name": "ipython",
    "version": 3
   },
   "file_extension": ".py",
   "mimetype": "text/x-python",
   "name": "python",
   "nbconvert_exporter": "python",
   "pygments_lexer": "ipython3",
   "version": "3.10.6"
  },
  "orig_nbformat": 4
 },
 "nbformat": 4,
 "nbformat_minor": 2
}
